{
 "cells": [
  {
   "cell_type": "markdown",
   "id": "37f80f52",
   "metadata": {},
   "source": [
    "##### t1-37 카테고리별 구매 분석"
   ]
  },
  {
   "cell_type": "markdown",
   "id": "8b36c379",
   "metadata": {},
   "source": [
    "1. 30대 프리미엄 고객의 전체 평균 구매금액 중 ‘패션’ 카테고리가 차지하는 비율(%)은 얼마인가요?\n",
    "- 정답은 소수 첫째자리에서 반올림하여 정수로 입력하세요 (예: 38)"
   ]
  },
  {
   "cell_type": "markdown",
   "id": "49c8f058",
   "metadata": {},
   "source": [
    "2. 프리미엄 고객의 ‘생활용품’ 평균 구매금액은 일반 고객보다 몇 원 더 높나요?\n",
    "- 정답은 정수로 입력하세요 (소수점 절사)"
   ]
  },
  {
   "cell_type": "code",
   "execution_count": null,
   "id": "35d57c2e",
   "metadata": {},
   "outputs": [],
   "source": []
  },
  {
   "cell_type": "code",
   "execution_count": null,
   "id": "3d74d30a",
   "metadata": {},
   "outputs": [],
   "source": []
  },
  {
   "cell_type": "code",
   "execution_count": null,
   "id": "61e94b36",
   "metadata": {},
   "outputs": [],
   "source": []
  },
  {
   "cell_type": "code",
   "execution_count": null,
   "id": "78ad23f2",
   "metadata": {},
   "outputs": [],
   "source": []
  },
  {
   "cell_type": "code",
   "execution_count": null,
   "id": "5fc4f02c",
   "metadata": {},
   "outputs": [],
   "source": []
  },
  {
   "cell_type": "markdown",
   "id": "91006ade",
   "metadata": {},
   "source": [
    "##### Solution"
   ]
  },
  {
   "cell_type": "code",
   "execution_count": null,
   "id": "1409e165",
   "metadata": {},
   "outputs": [],
   "source": [
    "# 1. \n",
    "import pandas as pd\n",
    "df = pd.read_csv(\"/kaggle/input/bigdatacertificationkr/purchase.csv\")\n",
    "\n",
    "\n",
    "# 1. 조건 필터링\n",
    "cond = (df['세그먼트'] == '프리미엄') & (df['연령대'] == '30대')\n",
    "df_filtered = df[cond]\n",
    "\n",
    "# 2. 카테고리별 평균 구매금액 구하기\n",
    "mean_by_category = df_filtered.groupby('카테고리')['구매금액'].mean()\n",
    "\n",
    "# 3. 전체 평균의 합과 '패션' 비중 계산\n",
    "total_mean_sum = mean_by_category.sum()\n",
    "cond2 = df['카테고리'] == '패션'\n",
    "filtered_df = df[cond & cond2]\n",
    "fashion_mean = filtered_df['구매금액'].mean()\n",
    "\n",
    "ratio = round((fashion_mean / total_mean_sum) * 100)\n",
    "print(\"소문제 1 정답:\", ratio)\n",
    "\n",
    "\n",
    "# 1. 각 세그먼트에 대해 '생활용품' 카테고리만 필터링\n",
    "df_life = df[df['카테고리'] == '생활용품']\n",
    "\n",
    "# 2. 세그먼트별 평균 계산\n",
    "mean_life_by_segment = df_life.groupby('세그먼트')['구매금액'].mean()\n",
    "\n",
    "# 3. 차이 계산\n",
    "diff = round(mean_life_by_segment['프리미엄'] - mean_life_by_segment['일반'])\n",
    "print(\"소문제 2 정답:\", diff)"
   ]
  },
  {
   "cell_type": "code",
   "execution_count": null,
   "id": "baa18cfd",
   "metadata": {},
   "outputs": [],
   "source": [
    "# 2. \n",
    "\n",
    "import pandas as pd\n",
    "\n",
    "df = pd.read_csv(\"/kaggle/input/bigdatacertificationkr/purchase.csv\")\n",
    "\n",
    "# 피벗 테이블\n",
    "pivot = pd.pivot_table(\n",
    "    df,\n",
    "    index=['세그먼트', '연령대'],\n",
    "    columns='카테고리',\n",
    "    values='구매금액',\n",
    "    aggfunc='mean',\n",
    "    fill_value=0\n",
    ")\n",
    "print(pivot)\n",
    "\n",
    "# 소문제 1 계산\n",
    "fashion = pivot.loc[('프리미엄', '30대'), '패션']\n",
    "row_sum = pivot.loc[('프리미엄', '30대')].sum()\n",
    "q1 = round((fashion / row_sum) * 100)\n",
    "\n",
    "# 소문제 2 계산\n",
    "# 세그먼트별 평균 테이블 재생성\n",
    "pivot2 = pd.pivot_table(df, index='세그먼트', columns='카테고리', values='구매금액', aggfunc='mean')\n",
    "q2 = int(round(pivot2.loc['프리미엄', '생활용품'] - pivot2.loc['일반', '생활용품']))\n",
    "\n",
    "print(\"소문제 1 정답:\", q1)\n",
    "print(\"소문제 2 정답:\", q2)"
   ]
  }
 ],
 "metadata": {
  "language_info": {
   "name": "python"
  }
 },
 "nbformat": 4,
 "nbformat_minor": 5
}
