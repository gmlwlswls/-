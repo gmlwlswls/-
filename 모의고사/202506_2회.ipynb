{
 "cells": [
  {
   "cell_type": "markdown",
   "id": "2d2a7f8f",
   "metadata": {},
   "source": [
    "##### t1-36 부서별 월별 평균 초과근무시간 분석"
   ]
  },
  {
   "cell_type": "markdown",
   "id": "611188e1",
   "metadata": {},
   "source": [
    "1. 2024년 1~3월 동안 부서별 초과근무시간을 분석한 결과, 특정 부서에서만 모든 달 평균 초과근무시간이 3시간을 초과한 것으로 나타났다. 이 부서는 인사팀에 보고되어 근무환경 개선 요청이 접수되었다. 부서의 이름은?"
   ]
  },
  {
   "cell_type": "code",
   "execution_count": null,
   "id": "cb5d10bd",
   "metadata": {},
   "outputs": [],
   "source": []
  },
  {
   "cell_type": "code",
   "execution_count": null,
   "id": "8234dc54",
   "metadata": {},
   "outputs": [],
   "source": []
  },
  {
   "cell_type": "code",
   "execution_count": null,
   "id": "70b94a5f",
   "metadata": {},
   "outputs": [],
   "source": []
  },
  {
   "cell_type": "code",
   "execution_count": null,
   "id": "7a341eec",
   "metadata": {},
   "outputs": [],
   "source": []
  },
  {
   "cell_type": "code",
   "execution_count": null,
   "id": "f8bc6a5f",
   "metadata": {},
   "outputs": [],
   "source": []
  },
  {
   "cell_type": "code",
   "execution_count": null,
   "id": "0c185add",
   "metadata": {},
   "outputs": [],
   "source": []
  },
  {
   "cell_type": "markdown",
   "id": "a9d423b5",
   "metadata": {},
   "source": [
    "##### Solution"
   ]
  },
  {
   "cell_type": "code",
   "execution_count": null,
   "id": "99fc909e",
   "metadata": {},
   "outputs": [],
   "source": [
    "import pandas as pd\n",
    "df = pd.read_csv(\"/kaggle/input/bigdatacertificationkr/overwork.csv\")\n",
    "df.head()"
   ]
  }
 ],
 "metadata": {
  "language_info": {
   "name": "python"
  }
 },
 "nbformat": 4,
 "nbformat_minor": 5
}
