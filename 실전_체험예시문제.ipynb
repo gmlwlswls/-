{
 "cells": [
  {
   "cell_type": "markdown",
   "id": "2ffdd7fd",
   "metadata": {},
   "source": [
    "예시 문제 캐글 홈페이지\n",
    "- https://www.kaggle.com/datasets/agileteam/bigdatacertificationkr"
   ]
  },
  {
   "cell_type": "markdown",
   "id": "effa0ccc",
   "metadata": {},
   "source": [
    "- https://www.kaggle.com/code/agileteam/t3-ex-ver2025-py"
   ]
  }
 ],
 "metadata": {
  "language_info": {
   "name": "python"
  }
 },
 "nbformat": 4,
 "nbformat_minor": 5
}
