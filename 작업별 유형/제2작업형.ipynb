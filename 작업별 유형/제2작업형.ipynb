{
 "cells": [
  {
   "cell_type": "markdown",
   "id": "dd5136cc",
   "metadata": {},
   "source": [
    "- T2-1.        \n",
    "학습용 데이터 (X_train, y_train)을 이용하여 생존 예측 모형을 만든 후, 이를 평가용 데이터(X_test)에 적용하여 얻은 예측값을 다음과 같은 형식의 CSV파일로 생성하시오(제출한 모델의 성능은 accuracy 평가지표에 따라 채점)          \n",
    "            \n",
    "(가) 제공 데이터 목록            \n",
    "y_train: 생존여부(학습용)\n",
    "X_trian, X_test : 승객 정보 (학습용 및 평가용)\n",
    "                \n",
    "(나) 데이터 형식 및 내용\n",
    "y_trian (712명 데이터)"
   ]
  },
  {
   "cell_type": "markdown",
   "id": "58916096",
   "metadata": {},
   "source": [
    "유의사항             \n",
    "성능이 우수한 예측모형을 구축하기 위해서는 적절한 데이터 전처리, 피처엔지니어링, 분류알고리즘, 하이퍼파라미터 튜닝, 모형 앙상블 등이 수반되어야 한다.               \n",
    "수험번호.csv파일이 만들어지도록 코드를 제출한다.              \n",
    "제출한 모델의 성능은 accuracy로 평가함       "
   ]
  },
  {
   "attachments": {
    "image.png": {
     "image/png": "[encoded data removed]"
    }
   },
   "cell_type": "markdown",
   "id": "37e3818e",
   "metadata": {},
   "source": [
    "##### 출력 형태\n",
    "\n",
    "![image.png](attachment:image.png)"
   ]
  },
  {
   "cell_type": "code",
   "execution_count": 8,
   "id": "5d5771c7",
   "metadata": {},
   "outputs": [],
   "source": [
    "# import sklearn\n",
    "# # dir(sklearn)\n",
    "# dir(sklearn.metrics)"
   ]
  },
  {
   "cell_type": "code",
   "execution_count": 60,
   "id": "56023a45",
   "metadata": {},
   "outputs": [
    {
     "name": "stdout",
     "output_type": "stream",
     "text": [
      "<class 'pandas.core.frame.DataFrame'>\n",
      "Index: 891 entries, 1 to 891\n",
      "Data columns (total 11 columns):\n",
      " #   Column    Non-Null Count  Dtype  \n",
      "---  ------    --------------  -----  \n",
      " 0   Survived  891 non-null    int64  \n",
      " 1   Pclass    891 non-null    int64  \n",
      " 2   Name      891 non-null    object \n",
      " 3   Sex       891 non-null    object \n",
      " 4   Age       714 non-null    float64\n",
      " 5   SibSp     891 non-null    int64  \n",
      " 6   Parch     891 non-null    int64  \n",
      " 7   Ticket    891 non-null    object \n",
      " 8   Fare      891 non-null    float64\n",
      " 9   Cabin     204 non-null    object \n",
      " 10  Embarked  889 non-null    object \n",
      "dtypes: float64(2), int64(4), object(5)\n",
      "memory usage: 83.5+ KB\n"
     ]
    }
   ],
   "source": [
    "import pandas as pd\n",
    "import numpy as np\n",
    "from sklearn.metrics import accuracy_score\n",
    "\n",
    "titanic_train = pd.read_csv('../data/titanic/train.csv', index_col = 'PassengerId')\n",
    "titanic_test = pd.read_csv('../data/titanic/test.csv')\n",
    "titanic_train.info() # 891\n",
    "\n",
    "# titanic_test.info() # survived가 빠짐\n",
    "\n",
    "# pclass = ticket class 1= 1st, 2= 2nd 3= 3rd\n",
    "# sibsp = 함께 탑승한 형제 또는 배우자 수 \n",
    "# parch = 함께 탑승한 부모 또는 자녀 수 \n",
    "# ticket = ticket num\n",
    "# fare = Passenger fare\n",
    "# Cabin = 선실 번호\n",
    "# embarked = 탑승 장소 > C = Cherbourg, Q = Queenstown, S = Southampton"
   ]
  },
  {
   "cell_type": "code",
   "execution_count": 61,
   "id": "b3f922a9",
   "metadata": {},
   "outputs": [],
   "source": [
    "# 지도 학습 - 분류 > 랜덤포레스트, 앙상블 XGBoost\n",
    "# 분석용 df\n",
    "titanic_da = titanic_train[['Pclass', 'Sex', 'Age', 'SibSp', 'Parch', 'Fare', 'Cabin', 'Embarked']]\n",
    "titanic_target = titanic_train['Survived']"
   ]
  },
  {
   "cell_type": "code",
   "execution_count": 54,
   "id": "ad0de2ea",
   "metadata": {},
   "outputs": [],
   "source": [
    "# help(pd.DataFrame.dropna)"
   ]
  },
  {
   "cell_type": "code",
   "execution_count": 62,
   "id": "468d76cf",
   "metadata": {},
   "outputs": [
    {
     "name": "stdout",
     "output_type": "stream",
     "text": [
      "<class 'pandas.core.frame.DataFrame'>\n",
      "Index: 712 entries, 1 to 891\n",
      "Data columns (total 7 columns):\n",
      " #   Column    Non-Null Count  Dtype  \n",
      "---  ------    --------------  -----  \n",
      " 0   Pclass    712 non-null    int64  \n",
      " 1   Sex       712 non-null    object \n",
      " 2   Age       712 non-null    float64\n",
      " 3   SibSp     712 non-null    int64  \n",
      " 4   Parch     712 non-null    int64  \n",
      " 5   Fare      712 non-null    float64\n",
      " 6   Embarked  712 non-null    object \n",
      "dtypes: float64(2), int64(3), object(2)\n",
      "memory usage: 44.5+ KB\n"
     ]
    },
    {
     "name": "stderr",
     "output_type": "stream",
     "text": [
      "C:\\Users\\LGCARE\\AppData\\Local\\Temp\\ipykernel_28780\\485546918.py:2: SettingWithCopyWarning: \n",
      "A value is trying to be set on a copy of a slice from a DataFrame\n",
      "\n",
      "See the caveats in the documentation: https://pandas.pydata.org/pandas-docs/stable/user_guide/indexing.html#returning-a-view-versus-a-copy\n",
      "  titanic_da.drop('Cabin', axis= 1, inplace= True)\n",
      "C:\\Users\\LGCARE\\AppData\\Local\\Temp\\ipykernel_28780\\485546918.py:8: SettingWithCopyWarning: \n",
      "A value is trying to be set on a copy of a slice from a DataFrame\n",
      "\n",
      "See the caveats in the documentation: https://pandas.pydata.org/pandas-docs/stable/user_guide/indexing.html#returning-a-view-versus-a-copy\n",
      "  titanic_da.dropna(how= 'any', inplace= True)\n"
     ]
    }
   ],
   "source": [
    "titanic_da.isnull().sum()\n",
    "titanic_da.drop('Cabin', axis= 1, inplace= True)\n",
    "titanic_da.isnull().sum()\n",
    "\n",
    "titanic_da.head()\n",
    "titanic_da.isnull().sum()\n",
    "\n",
    "titanic_da.dropna(how= 'any', inplace= True)\n",
    "titanic_da.info() # 891 > 712\n"
   ]
  },
  {
   "cell_type": "code",
   "execution_count": null,
   "id": "0e6d334d",
   "metadata": {},
   "outputs": [
    {
     "data": {
      "text/plain": [
       "['KNNImputer',\n",
       " 'MissingIndicator',\n",
       " 'SimpleImputer',\n",
       " '__all__',\n",
       " '__builtins__',\n",
       " '__cached__',\n",
       " '__doc__',\n",
       " '__file__',\n",
       " '__getattr__',\n",
       " '__loader__',\n",
       " '__name__',\n",
       " '__package__',\n",
       " '__path__',\n",
       " '__spec__',\n",
       " '_base',\n",
       " '_knn',\n",
       " 'typing']"
      ]
     },
     "execution_count": 40,
     "metadata": {},
     "output_type": "execute_result"
    }
   ],
   "source": [
    "# 1. 범주형 :  Pclass, Sex, Embarked\n"
   ]
  }
 ],
 "metadata": {
  "kernelspec": {
   "display_name": "Python 3",
   "language": "python",
   "name": "python3"
  },
  "language_info": {
   "codemirror_mode": {
    "name": "ipython",
    "version": 3
   },
   "file_extension": ".py",
   "mimetype": "text/x-python",
   "name": "python",
   "nbconvert_exporter": "python",
   "pygments_lexer": "ipython3",
   "version": "3.11.9"
  }
 },
 "nbformat": 4,
 "nbformat_minor": 5
}
